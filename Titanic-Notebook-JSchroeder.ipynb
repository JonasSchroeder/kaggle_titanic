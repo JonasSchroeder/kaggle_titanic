{
 "cells": [
  {
   "cell_type": "markdown",
   "metadata": {},
   "source": [
    "# Titanic Survivor Prediction Notebook"
   ]
  },
  {
   "cell_type": "markdown",
   "metadata": {},
   "source": [
    "### 1. Data Preparation"
   ]
  },
  {
   "cell_type": "code",
   "execution_count": 106,
   "metadata": {},
   "outputs": [],
   "source": [
    "# import relevant packages\n",
    "import os\n",
    "import numpy as np\n",
    "import pandas as pd\n",
    "import re\n",
    "import matplotlib.pyplot as plt\n",
    "plt.style.use('seaborn')\n",
    "import seaborn as sns"
   ]
  },
  {
   "cell_type": "code",
   "execution_count": 107,
   "metadata": {},
   "outputs": [],
   "source": [
    "# change working directory and load data\n",
    "path = r\"/Users/jonasschroeder/OneDrive - MTP-Marketing zwischen Theorie und Praxis e. V/Python/Kaggle/Titanic Competition\"\n",
    "os.chdir(path)\n",
    "\n",
    "train_df = pd.read_csv(\"train.csv\")\n",
    "test_df = pd.read_csv(\"test.csv\")"
   ]
  },
  {
   "cell_type": "code",
   "execution_count": 108,
   "metadata": {},
   "outputs": [
    {
     "data": {
      "text/html": [
       "<div>\n",
       "<style scoped>\n",
       "    .dataframe tbody tr th:only-of-type {\n",
       "        vertical-align: middle;\n",
       "    }\n",
       "\n",
       "    .dataframe tbody tr th {\n",
       "        vertical-align: top;\n",
       "    }\n",
       "\n",
       "    .dataframe thead th {\n",
       "        text-align: right;\n",
       "    }\n",
       "</style>\n",
       "<table border=\"1\" class=\"dataframe\">\n",
       "  <thead>\n",
       "    <tr style=\"text-align: right;\">\n",
       "      <th></th>\n",
       "      <th>PassengerId</th>\n",
       "      <th>Survived</th>\n",
       "      <th>Pclass</th>\n",
       "      <th>Name</th>\n",
       "      <th>Sex</th>\n",
       "      <th>Age</th>\n",
       "      <th>SibSp</th>\n",
       "      <th>Parch</th>\n",
       "      <th>Ticket</th>\n",
       "      <th>Fare</th>\n",
       "      <th>Cabin</th>\n",
       "      <th>Embarked</th>\n",
       "    </tr>\n",
       "  </thead>\n",
       "  <tbody>\n",
       "    <tr>\n",
       "      <th>0</th>\n",
       "      <td>1</td>\n",
       "      <td>0</td>\n",
       "      <td>3</td>\n",
       "      <td>Braund, Mr. Owen Harris</td>\n",
       "      <td>male</td>\n",
       "      <td>22.0</td>\n",
       "      <td>1</td>\n",
       "      <td>0</td>\n",
       "      <td>A/5 21171</td>\n",
       "      <td>7.2500</td>\n",
       "      <td>NaN</td>\n",
       "      <td>S</td>\n",
       "    </tr>\n",
       "    <tr>\n",
       "      <th>1</th>\n",
       "      <td>2</td>\n",
       "      <td>1</td>\n",
       "      <td>1</td>\n",
       "      <td>Cumings, Mrs. John Bradley (Florence Briggs Th...</td>\n",
       "      <td>female</td>\n",
       "      <td>38.0</td>\n",
       "      <td>1</td>\n",
       "      <td>0</td>\n",
       "      <td>PC 17599</td>\n",
       "      <td>71.2833</td>\n",
       "      <td>C85</td>\n",
       "      <td>C</td>\n",
       "    </tr>\n",
       "    <tr>\n",
       "      <th>2</th>\n",
       "      <td>3</td>\n",
       "      <td>1</td>\n",
       "      <td>3</td>\n",
       "      <td>Heikkinen, Miss. Laina</td>\n",
       "      <td>female</td>\n",
       "      <td>26.0</td>\n",
       "      <td>0</td>\n",
       "      <td>0</td>\n",
       "      <td>STON/O2. 3101282</td>\n",
       "      <td>7.9250</td>\n",
       "      <td>NaN</td>\n",
       "      <td>S</td>\n",
       "    </tr>\n",
       "    <tr>\n",
       "      <th>3</th>\n",
       "      <td>4</td>\n",
       "      <td>1</td>\n",
       "      <td>1</td>\n",
       "      <td>Futrelle, Mrs. Jacques Heath (Lily May Peel)</td>\n",
       "      <td>female</td>\n",
       "      <td>35.0</td>\n",
       "      <td>1</td>\n",
       "      <td>0</td>\n",
       "      <td>113803</td>\n",
       "      <td>53.1000</td>\n",
       "      <td>C123</td>\n",
       "      <td>S</td>\n",
       "    </tr>\n",
       "    <tr>\n",
       "      <th>4</th>\n",
       "      <td>5</td>\n",
       "      <td>0</td>\n",
       "      <td>3</td>\n",
       "      <td>Allen, Mr. William Henry</td>\n",
       "      <td>male</td>\n",
       "      <td>35.0</td>\n",
       "      <td>0</td>\n",
       "      <td>0</td>\n",
       "      <td>373450</td>\n",
       "      <td>8.0500</td>\n",
       "      <td>NaN</td>\n",
       "      <td>S</td>\n",
       "    </tr>\n",
       "  </tbody>\n",
       "</table>\n",
       "</div>"
      ],
      "text/plain": [
       "   PassengerId  Survived  Pclass  \\\n",
       "0            1         0       3   \n",
       "1            2         1       1   \n",
       "2            3         1       3   \n",
       "3            4         1       1   \n",
       "4            5         0       3   \n",
       "\n",
       "                                                Name     Sex   Age  SibSp  \\\n",
       "0                            Braund, Mr. Owen Harris    male  22.0      1   \n",
       "1  Cumings, Mrs. John Bradley (Florence Briggs Th...  female  38.0      1   \n",
       "2                             Heikkinen, Miss. Laina  female  26.0      0   \n",
       "3       Futrelle, Mrs. Jacques Heath (Lily May Peel)  female  35.0      1   \n",
       "4                           Allen, Mr. William Henry    male  35.0      0   \n",
       "\n",
       "   Parch            Ticket     Fare Cabin Embarked  \n",
       "0      0         A/5 21171   7.2500   NaN        S  \n",
       "1      0          PC 17599  71.2833   C85        C  \n",
       "2      0  STON/O2. 3101282   7.9250   NaN        S  \n",
       "3      0            113803  53.1000  C123        S  \n",
       "4      0            373450   8.0500   NaN        S  "
      ]
     },
     "execution_count": 108,
     "metadata": {},
     "output_type": "execute_result"
    }
   ],
   "source": [
    "train_df.head(5)"
   ]
  },
  {
   "cell_type": "code",
   "execution_count": 109,
   "metadata": {},
   "outputs": [
    {
     "name": "stdout",
     "output_type": "stream",
     "text": [
      "<class 'pandas.core.frame.DataFrame'>\n",
      "RangeIndex: 891 entries, 0 to 890\n",
      "Data columns (total 12 columns):\n",
      " #   Column       Non-Null Count  Dtype  \n",
      "---  ------       --------------  -----  \n",
      " 0   PassengerId  891 non-null    int64  \n",
      " 1   Survived     891 non-null    int64  \n",
      " 2   Pclass       891 non-null    int64  \n",
      " 3   Name         891 non-null    object \n",
      " 4   Sex          891 non-null    object \n",
      " 5   Age          714 non-null    float64\n",
      " 6   SibSp        891 non-null    int64  \n",
      " 7   Parch        891 non-null    int64  \n",
      " 8   Ticket       891 non-null    object \n",
      " 9   Fare         891 non-null    float64\n",
      " 10  Cabin        204 non-null    object \n",
      " 11  Embarked     889 non-null    object \n",
      "dtypes: float64(2), int64(5), object(5)\n",
      "memory usage: 83.7+ KB\n"
     ]
    }
   ],
   "source": [
    "train_df.info()"
   ]
  },
  {
   "cell_type": "code",
   "execution_count": 110,
   "metadata": {},
   "outputs": [],
   "source": [
    "# TRAINING DATA\n",
    "\n",
    "# Rename class\n",
    "train_df[\"Pclass\"].replace(1, \"Upper\", inplace=True)\n",
    "train_df[\"Pclass\"].replace(2, \"Middle\", inplace=True)\n",
    "train_df[\"Pclass\"].replace(3, \"Lower\", inplace=True)\n",
    "\n",
    "# Replace missing age with median\n",
    "train_df[\"Age\"].fillna(np.nanmedian(train_df[\"Age\"]), inplace=True)\n",
    "\n",
    "# Create Age Bands\n",
    "\n",
    "# With family \n",
    "train_df[\"with_family\"] = (train_df[\"SibSp\"] + train_df[\"Parch\"])>0\n",
    "\n",
    "# Replace NA for embarked with \"S\"\n",
    "train_df[\"Embarked\"].fillna(\"S\", inplace=True)\n",
    "\n",
    "# Replace NA for Cabin with \"Unknown\"\n",
    "train_df[\"Cabin\"].fillna(\"Unknown\", inplace=True)\n",
    "\n",
    "# Extract Name Title\n",
    "train_df[\"Title\"] = train_df.Name.apply(lambda x: x.split(\",\")[1].split(\".\")[0].strip())\n",
    "title_list = [\"Mr\", \"Miss\", \"Mrs\", \"Master\", \"Dr\", \"Rev\", \"Col\"]\n",
    "train_df.loc[~train_df[\"Title\"].isin(title_list), \"Title\"] = \"NA\"\n",
    "\n",
    "# Extract deck from Cabin\n",
    "for i in range(0, len(train_df)):\n",
    "    train_df.at[i, \"Deck\"] = \" \".join(re.findall(\"[a-zA-Z]+\", train_df.at[i, \"Cabin\"]))\n",
    "\n",
    "train_df[\"Deck\"].replace(\"B B\", \"B\", inplace=True)\n",
    "train_df[\"Deck\"].replace(\"B B B\", \"B\", inplace=True)\n",
    "train_df[\"Deck\"].replace(\"B B B B\", \"B\", inplace=True)\n",
    "train_df[\"Deck\"].replace(\"C C\", \"C\", inplace=True)\n",
    "train_df[\"Deck\"].replace(\"D D\", \"D\", inplace=True)\n",
    "train_df[\"Deck\"].replace(\"C C C\", \"C\", inplace=True)\n",
    "train_df[\"Deck\"].replace(\"F G\", \"F\", inplace=True)\n",
    "train_df[\"Deck\"].replace(\"F E\", \"E\", inplace=True)\n",
    "train_df[\"Deck\"].replace(\"T\", \"Unknown\", inplace=True)"
   ]
  },
  {
   "cell_type": "code",
   "execution_count": 111,
   "metadata": {},
   "outputs": [],
   "source": [
    "# TEST DATA\n",
    "\n",
    "# Rename class\n",
    "test_df[\"Pclass\"].replace(1, \"Upper\", inplace=True)\n",
    "test_df[\"Pclass\"].replace(2, \"Middle\", inplace=True)\n",
    "test_df[\"Pclass\"].replace(3, \"Lower\", inplace=True)\n",
    "\n",
    "# Replace missing age with median\n",
    "test_df[\"Age\"].fillna(np.nanmedian(test_df[\"Age\"]), inplace=True)\n",
    "\n",
    "# Replace missing fare with median\n",
    "test_df[\"Fare\"].fillna(np.nanmedian(test_df[\"Fare\"]), inplace=True)\n",
    "\n",
    "# Replace NA for embarked with \"S\"\n",
    "test_df[\"Embarked\"].fillna(\"S\", inplace=True)\n",
    "\n",
    "# Replace NA for Cabin with \"Unknown\"\n",
    "test_df[\"Cabin\"].fillna(\"Unknown\", inplace=True)\n",
    "\n",
    "# With family\n",
    "test_df[\"with_family\"] = (test_df[\"SibSp\"] + test_df[\"Parch\"])>0\n",
    "\n",
    "# Extract Name Title\n",
    "test_df[\"Title\"] = test_df.Name.apply(lambda x: x.split(\",\")[1].split(\".\")[0].strip())\n",
    "title_list = [\"Mr\", \"Miss\", \"Mrs\", \"Master\", \"Dr\", \"Rev\", \"Col\"]\n",
    "test_df.loc[~test_df[\"Title\"].isin(title_list), \"Title\"] = \"NA\"\n",
    "\n",
    "# Extract deck from Cabin\n",
    "for i in range(0, len(test_df)):\n",
    "    test_df.at[i, \"Deck\"] = \" \".join(re.findall(\"[a-zA-Z]+\", test_df.at[i, \"Cabin\"]))\n",
    "\n",
    "test_df[\"Deck\"].replace(\"B B\", \"B\", inplace=True)\n",
    "test_df[\"Deck\"].replace(\"B B B\", \"B\", inplace=True)\n",
    "test_df[\"Deck\"].replace(\"B B B B\", \"B\", inplace=True)\n",
    "test_df[\"Deck\"].replace(\"C C\", \"C\", inplace=True)\n",
    "test_df[\"Deck\"].replace(\"E E\", \"E\", inplace=True)\n",
    "test_df[\"Deck\"].replace(\"D D\", \"D\", inplace=True)\n",
    "test_df[\"Deck\"].replace(\"C C C\", \"C\", inplace=True)\n",
    "test_df[\"Deck\"].replace(\"F G\", \"F\", inplace=True)\n",
    "test_df[\"Deck\"].replace(\"F E\", \"E\", inplace=True)\n",
    "test_df[\"Deck\"].replace(\"T\", \"Unknown\", inplace=True)"
   ]
  },
  {
   "cell_type": "code",
   "execution_count": 112,
   "metadata": {},
   "outputs": [
    {
     "name": "stdout",
     "output_type": "stream",
     "text": [
      "<class 'pandas.core.frame.DataFrame'>\n",
      "RangeIndex: 891 entries, 0 to 890\n",
      "Data columns (total 15 columns):\n",
      " #   Column       Non-Null Count  Dtype  \n",
      "---  ------       --------------  -----  \n",
      " 0   PassengerId  891 non-null    int64  \n",
      " 1   Survived     891 non-null    int64  \n",
      " 2   Pclass       891 non-null    object \n",
      " 3   Name         891 non-null    object \n",
      " 4   Sex          891 non-null    object \n",
      " 5   Age          891 non-null    float64\n",
      " 6   SibSp        891 non-null    int64  \n",
      " 7   Parch        891 non-null    int64  \n",
      " 8   Ticket       891 non-null    object \n",
      " 9   Fare         891 non-null    float64\n",
      " 10  Cabin        891 non-null    object \n",
      " 11  Embarked     891 non-null    object \n",
      " 12  with_family  891 non-null    bool   \n",
      " 13  Title        891 non-null    object \n",
      " 14  Deck         891 non-null    object \n",
      "dtypes: bool(1), float64(2), int64(4), object(8)\n",
      "memory usage: 98.4+ KB\n",
      "None\n"
     ]
    }
   ],
   "source": [
    "# detect attributes with missing values\n",
    "print(train_df.info())"
   ]
  },
  {
   "cell_type": "code",
   "execution_count": 113,
   "metadata": {},
   "outputs": [
    {
     "name": "stdout",
     "output_type": "stream",
     "text": [
      "<class 'pandas.core.frame.DataFrame'>\n",
      "RangeIndex: 418 entries, 0 to 417\n",
      "Data columns (total 14 columns):\n",
      " #   Column       Non-Null Count  Dtype  \n",
      "---  ------       --------------  -----  \n",
      " 0   PassengerId  418 non-null    int64  \n",
      " 1   Pclass       418 non-null    object \n",
      " 2   Name         418 non-null    object \n",
      " 3   Sex          418 non-null    object \n",
      " 4   Age          418 non-null    float64\n",
      " 5   SibSp        418 non-null    int64  \n",
      " 6   Parch        418 non-null    int64  \n",
      " 7   Ticket       418 non-null    object \n",
      " 8   Fare         418 non-null    float64\n",
      " 9   Cabin        418 non-null    object \n",
      " 10  Embarked     418 non-null    object \n",
      " 11  with_family  418 non-null    bool   \n",
      " 12  Title        418 non-null    object \n",
      " 13  Deck         418 non-null    object \n",
      "dtypes: bool(1), float64(2), int64(3), object(8)\n",
      "memory usage: 43.0+ KB\n",
      "None\n"
     ]
    }
   ],
   "source": [
    "# detect attributes with missing values\n",
    "print(test_df.info())"
   ]
  },
  {
   "cell_type": "code",
   "execution_count": 114,
   "metadata": {},
   "outputs": [],
   "source": [
    "# Pre-processing: Standardization and One-Hot Encoder\n",
    "\n",
    "from sklearn.pipeline import Pipeline\n",
    "from sklearn.preprocessing import StandardScaler, OneHotEncoder\n",
    "from sklearn.compose import ColumnTransformer\n",
    "\n",
    "train_df_pre = train_df.drop(columns=[\"Name\", \"Ticket\", \"Cabin\"])\n",
    "test_df_pre = test_df.drop(columns=[ \"Name\", \"Ticket\", \"Cabin\"])\n",
    "\n",
    "num_attribs = [\"Age\", \"SibSp\", \"Parch\", \"Fare\"]\n",
    "cat_attribs = [\"Pclass\", \"Embarked\", \"Deck\", \"Sex\", \"Title\", \"with_family\"]\n",
    "\n",
    "col_transformer = ColumnTransformer([\n",
    "    (\"num\", StandardScaler(), num_attribs),\n",
    "    (\"cat\", OneHotEncoder(), cat_attribs),\n",
    "    ],\n",
    "    remainder=\"passthrough\")\n",
    "\n",
    "# Fit transform TRAIN\n",
    "train_array_transformed = col_transformer.fit_transform(train_df_pre)\n",
    "\n",
    "# Convert numpy.ndarray to pd.DataFrame\n",
    "train_df_transformed = pd.DataFrame(data=train_array_transformed)\n",
    "#train_df_transformed = pd.DataFrame(data=train_array_transformed.toarray())\n",
    "\n",
    "# Rename columns\n",
    "column_names = num_attribs + list(col_transformer.named_transformers_['cat'].get_feature_names()) + [\"PassengerId\"] + [\"Survived\"]\n",
    "train_df_transformed.columns = column_names\n",
    "\n",
    "\n",
    "# Fit transform TEST\n",
    "test_array_transformed = col_transformer.fit_transform(test_df_pre)\n",
    "\n",
    "# Convert numpy.ndarray to pd.DataFrame\n",
    "test_df_transformed = pd.DataFrame(data=test_array_transformed)\n",
    "\n",
    "# Rename columns\n",
    "column_names = num_attribs + list(col_transformer.named_transformers_['cat'].get_feature_names()) + [\"PassengerId\"]\n",
    "test_df_transformed.columns = column_names"
   ]
  },
  {
   "cell_type": "code",
   "execution_count": 115,
   "metadata": {},
   "outputs": [
    {
     "name": "stdout",
     "output_type": "stream",
     "text": [
      "Index(['Age', 'SibSp', 'Parch', 'Fare', 'x0_Lower', 'x0_Middle', 'x0_Upper',\n",
      "       'x1_C', 'x1_Q', 'x1_S', 'x2_A', 'x2_B', 'x2_C', 'x2_D', 'x2_E', 'x2_F',\n",
      "       'x2_G', 'x2_Unknown', 'x3_female', 'x3_male', 'x4_Col', 'x4_Dr',\n",
      "       'x4_Master', 'x4_Miss', 'x4_Mr', 'x4_Mrs', 'x4_NA', 'x4_Rev',\n",
      "       'x5_False', 'x5_True', 'PassengerId', 'Survived'],\n",
      "      dtype='object')\n",
      "Index(['Age', 'SibSp', 'Parch', 'Fare', 'x0_Lower', 'x0_Middle', 'x0_Upper',\n",
      "       'x1_C', 'x1_Q', 'x1_S', 'x2_A', 'x2_B', 'x2_C', 'x2_D', 'x2_E', 'x2_F',\n",
      "       'x2_G', 'x2_Unknown', 'x3_female', 'x3_male', 'x4_Col', 'x4_Dr',\n",
      "       'x4_Master', 'x4_Miss', 'x4_Mr', 'x4_Mrs', 'x4_NA', 'x4_Rev',\n",
      "       'x5_False', 'x5_True', 'PassengerId'],\n",
      "      dtype='object')\n"
     ]
    }
   ],
   "source": [
    "# check columns\n",
    "print(train_df_transformed.columns)\n",
    "print(test_df_transformed.columns)"
   ]
  },
  {
   "cell_type": "markdown",
   "metadata": {},
   "source": [
    "## 2. Exploratory Data Analysis"
   ]
  },
  {
   "cell_type": "markdown",
   "metadata": {},
   "source": [
    "Note: The subsequent plots are based on the pre-processed data above. Decisions regarding the imputation (missing values for age, cabin, fare, etc.) directly influence the plots."
   ]
  },
  {
   "cell_type": "code",
   "execution_count": 116,
   "metadata": {},
   "outputs": [
    {
     "data": {
      "text/html": [
       "<div>\n",
       "<style scoped>\n",
       "    .dataframe tbody tr th:only-of-type {\n",
       "        vertical-align: middle;\n",
       "    }\n",
       "\n",
       "    .dataframe tbody tr th {\n",
       "        vertical-align: top;\n",
       "    }\n",
       "\n",
       "    .dataframe thead th {\n",
       "        text-align: right;\n",
       "    }\n",
       "</style>\n",
       "<table border=\"1\" class=\"dataframe\">\n",
       "  <thead>\n",
       "    <tr style=\"text-align: right;\">\n",
       "      <th></th>\n",
       "      <th>Survived</th>\n",
       "      <th>Age</th>\n",
       "      <th>SibSp</th>\n",
       "      <th>Parch</th>\n",
       "      <th>Fare</th>\n",
       "    </tr>\n",
       "  </thead>\n",
       "  <tbody>\n",
       "    <tr>\n",
       "      <th>count</th>\n",
       "      <td>891.000000</td>\n",
       "      <td>891.000000</td>\n",
       "      <td>891.000000</td>\n",
       "      <td>891.000000</td>\n",
       "      <td>891.000000</td>\n",
       "    </tr>\n",
       "    <tr>\n",
       "      <th>mean</th>\n",
       "      <td>0.383838</td>\n",
       "      <td>29.361582</td>\n",
       "      <td>0.523008</td>\n",
       "      <td>0.381594</td>\n",
       "      <td>32.204208</td>\n",
       "    </tr>\n",
       "    <tr>\n",
       "      <th>std</th>\n",
       "      <td>0.486592</td>\n",
       "      <td>13.019697</td>\n",
       "      <td>1.102743</td>\n",
       "      <td>0.806057</td>\n",
       "      <td>49.693429</td>\n",
       "    </tr>\n",
       "    <tr>\n",
       "      <th>min</th>\n",
       "      <td>0.000000</td>\n",
       "      <td>0.420000</td>\n",
       "      <td>0.000000</td>\n",
       "      <td>0.000000</td>\n",
       "      <td>0.000000</td>\n",
       "    </tr>\n",
       "    <tr>\n",
       "      <th>25%</th>\n",
       "      <td>0.000000</td>\n",
       "      <td>22.000000</td>\n",
       "      <td>0.000000</td>\n",
       "      <td>0.000000</td>\n",
       "      <td>7.910400</td>\n",
       "    </tr>\n",
       "    <tr>\n",
       "      <th>50%</th>\n",
       "      <td>0.000000</td>\n",
       "      <td>28.000000</td>\n",
       "      <td>0.000000</td>\n",
       "      <td>0.000000</td>\n",
       "      <td>14.454200</td>\n",
       "    </tr>\n",
       "    <tr>\n",
       "      <th>75%</th>\n",
       "      <td>1.000000</td>\n",
       "      <td>35.000000</td>\n",
       "      <td>1.000000</td>\n",
       "      <td>0.000000</td>\n",
       "      <td>31.000000</td>\n",
       "    </tr>\n",
       "    <tr>\n",
       "      <th>max</th>\n",
       "      <td>1.000000</td>\n",
       "      <td>80.000000</td>\n",
       "      <td>8.000000</td>\n",
       "      <td>6.000000</td>\n",
       "      <td>512.329200</td>\n",
       "    </tr>\n",
       "  </tbody>\n",
       "</table>\n",
       "</div>"
      ],
      "text/plain": [
       "         Survived         Age       SibSp       Parch        Fare\n",
       "count  891.000000  891.000000  891.000000  891.000000  891.000000\n",
       "mean     0.383838   29.361582    0.523008    0.381594   32.204208\n",
       "std      0.486592   13.019697    1.102743    0.806057   49.693429\n",
       "min      0.000000    0.420000    0.000000    0.000000    0.000000\n",
       "25%      0.000000   22.000000    0.000000    0.000000    7.910400\n",
       "50%      0.000000   28.000000    0.000000    0.000000   14.454200\n",
       "75%      1.000000   35.000000    1.000000    0.000000   31.000000\n",
       "max      1.000000   80.000000    8.000000    6.000000  512.329200"
      ]
     },
     "execution_count": 116,
     "metadata": {},
     "output_type": "execute_result"
    }
   ],
   "source": [
    "# summary statistics\n",
    "train_df[[\"Survived\", \"Age\", \"SibSp\", \"Parch\", \"Fare\"]].describe()"
   ]
  },
  {
   "cell_type": "markdown",
   "metadata": {},
   "source": [
    "### General Distribution of Features"
   ]
  },
  {
   "cell_type": "code",
   "execution_count": 128,
   "metadata": {},
   "outputs": [
    {
     "data": {
      "text/plain": [
       "Text(0.5, 1.0, 'Number of Survivors')"
      ]
     },
     "execution_count": 128,
     "metadata": {},
     "output_type": "execute_result"
    },
    {
     "data": {
      "image/png": "[encoded data removed]",
      "text/plain": [
       "<Figure size 360x360 with 1 Axes>"
      ]
     },
     "metadata": {},
     "output_type": "display_data"
    }
   ],
   "source": [
    "# Survived\n",
    "plt.figure(figsize=(5,5))\n",
    "count_survived = train_df[\"Survived\"].value_counts()\n",
    "count_survived .plot.bar()\n",
    "plt.title(\"Number of Survivors\", size=16)"
   ]
  },
  {
   "cell_type": "code",
   "execution_count": 131,
   "metadata": {},
   "outputs": [
    {
     "data": {
      "text/plain": [
       "Text(0.5, 1.0, 'Number per Class')"
      ]
     },
     "execution_count": 131,
     "metadata": {},
     "output_type": "execute_result"
    },
    {
     "data": {
      "image/png": "[encoded data removed]",
      "text/plain": [
       "<Figure size 360x360 with 1 Axes>"
      ]
     },
     "metadata": {},
     "output_type": "display_data"
    }
   ],
   "source": [
    "# Number per class\n",
    "plt.figure(figsize=(5,5))\n",
    "count_class = train_df[\"Pclass\"].value_counts()\n",
    "count_class.plot.bar()\n",
    "plt.title(\"Number per Class\", size=16)"
   ]
  },
  {
   "cell_type": "code",
   "execution_count": 132,
   "metadata": {},
   "outputs": [
    {
     "data": {
      "text/plain": [
       "Text(0.5, 1.0, 'Number per Title')"
      ]
     },
     "execution_count": 132,
     "metadata": {},
     "output_type": "execute_result"
    },
    {
     "data": {
      "image/png": "[encoded data removed]",
      "text/plain": [
       "<Figure size 360x360 with 1 Axes>"
      ]
     },
     "metadata": {},
     "output_type": "display_data"
    }
   ],
   "source": [
    "# Number per Title\n",
    "plt.figure(figsize=(5,5))\n",
    "count_title = train_df[\"Title\"].value_counts()\n",
    "count_title.plot.bar()\n",
    "plt.title(\"Number per Title\", size=16)"
   ]
  },
  {
   "cell_type": "code",
   "execution_count": 133,
   "metadata": {},
   "outputs": [
    {
     "data": {
      "text/plain": [
       "Text(0.5, 1.0, 'Number of Siblings or Spouses')"
      ]
     },
     "execution_count": 133,
     "metadata": {},
     "output_type": "execute_result"
    },
    {
     "data": {
      "image/png": "[encoded data removed]",
      "text/plain": [
       "<Figure size 360x360 with 1 Axes>"
      ]
     },
     "metadata": {},
     "output_type": "display_data"
    }
   ],
   "source": [
    "# Number of siblings or spouses\n",
    "plt.figure(figsize=(5,5))\n",
    "count_sibsp = train_df[\"SibSp\"].value_counts()\n",
    "count_sibsp.plot.bar()\n",
    "plt.title(\"Number of Siblings or Spouses\", size=16)"
   ]
  },
  {
   "cell_type": "code",
   "execution_count": 134,
   "metadata": {},
   "outputs": [
    {
     "data": {
      "text/plain": [
       "Text(0.5, 1.0, 'Number per Port')"
      ]
     },
     "execution_count": 134,
     "metadata": {},
     "output_type": "execute_result"
    },
    {
     "data": {
      "image/png": "[encoded data removed]",
      "text/plain": [
       "<Figure size 360x360 with 1 Axes>"
      ]
     },
     "metadata": {},
     "output_type": "display_data"
    }
   ],
   "source": [
    "# Number per port\n",
    "plt.figure(figsize=(5,5))\n",
    "count_port = train_df[\"Embarked\"].value_counts()\n",
    "count_port.plot.bar()\n",
    "plt.title(\"Number per Port\", size=16)"
   ]
  },
  {
   "cell_type": "code",
   "execution_count": 135,
   "metadata": {},
   "outputs": [
    {
     "data": {
      "text/plain": [
       "Text(0.5, 1.0, 'Number per Deck')"
      ]
     },
     "execution_count": 135,
     "metadata": {},
     "output_type": "execute_result"
    },
    {
     "data": {
      "image/png": "[encoded data removed]",
      "text/plain": [
       "<Figure size 360x360 with 1 Axes>"
      ]
     },
     "metadata": {},
     "output_type": "display_data"
    }
   ],
   "source": [
    "# Number per deck\n",
    "plt.figure(figsize=(5,5))\n",
    "count_deck = train_df[\"Deck\"].value_counts()\n",
    "count_deck.plot.bar()\n",
    "plt.title(\"Number per Deck\", size=16)"
   ]
  },
  {
   "cell_type": "code",
   "execution_count": 136,
   "metadata": {},
   "outputs": [
    {
     "data": {
      "text/plain": [
       "Text(0.5, 1.0, 'Number per with_family')"
      ]
     },
     "execution_count": 136,
     "metadata": {},
     "output_type": "execute_result"
    },
    {
     "data": {
      "image/png": "[encoded data removed]",
      "text/plain": [
       "<Figure size 360x360 with 1 Axes>"
      ]
     },
     "metadata": {},
     "output_type": "display_data"
    }
   ],
   "source": [
    "# Number per with_family\n",
    "plt.figure(figsize=(5,5))\n",
    "count_with_family = train_df[\"with_family\"].value_counts()\n",
    "count_with_family.plot.bar()\n",
    "plt.title(\"Number per with_family\", size=16)"
   ]
  },
  {
   "cell_type": "code",
   "execution_count": 139,
   "metadata": {},
   "outputs": [
    {
     "data": {
      "text/plain": [
       "Text(0.5, 1.0, 'Heatmap: Correlation of numeric features')"
      ]
     },
     "execution_count": 139,
     "metadata": {},
     "output_type": "execute_result"
    },
    {
     "data": {
      "image/png": "[encoded data removed]",
      "text/plain": [
       "<Figure size 576x576 with 2 Axes>"
      ]
     },
     "metadata": {},
     "output_type": "display_data"
    }
   ],
   "source": [
    "# correlation between all numeric attributes\n",
    "plt.figure(figsize=(8,8))\n",
    "matrix = np.triu(train_df.drop(columns=[\"PassengerId\"]).corr())\n",
    "sns.heatmap(train_df.drop(columns=[\"PassengerId\"]).corr(), annot=True, fmt=\".1g\", \n",
    "            vmin=-1, vmax=1, center=0, \n",
    "            cmap=\"icefire\", square=True, mask=matrix)\n",
    "plt.title(\"Heatmap: Correlation of numeric features\", size=16)"
   ]
  },
  {
   "cell_type": "code",
   "execution_count": null,
   "metadata": {},
   "outputs": [
    {
     "data": {
      "text/plain": [
       "Text(0.5, 0.98, 'Characteristics of Survivors vs Non-Survivors')"
      ]
     },
     "execution_count": 140,
     "metadata": {},
     "output_type": "execute_result"
    }
   ],
   "source": [
    "# Survival countplots all in one\n",
    "fig, axs = plt.subplots(2, 3, figsize=(16,10))\n",
    "sns.countplot(data=train_df, y=\"Survived\", hue=\"Pclass\", ax=axs.flatten()[0])\n",
    "axs.flatten()[0].legend(title=\"Pclass\", loc=4)\n",
    "sns.countplot(data=train_df, y=\"Survived\", hue=\"Sex\", ax=axs.flatten()[1])\n",
    "axs.flatten()[1].legend(title=\"Sex\", loc=4)\n",
    "axs.flatten()[1].set_ylabel('') \n",
    "sns.countplot(data=train_df, y=\"Survived\", hue=\"Deck\", ax=axs.flatten()[2])\n",
    "axs.flatten()[2].set_ylabel('') \n",
    "axs.flatten()[2].legend(title=\"Deck\", loc=4)\n",
    "sns.countplot(data=train_df, y=\"Survived\", hue=\"Parch\", ax=axs.flatten()[3])\n",
    "axs.flatten()[3].legend(title=\"Parch\", loc=4)\n",
    "sns.countplot(data=train_df, y=\"Survived\", hue=\"SibSp\", ax=axs.flatten()[4])\n",
    "axs.flatten()[4].set_ylabel('') \n",
    "axs.flatten()[4].legend(title=\"SibSp\", loc=4)\n",
    "sns.countplot(data=train_df, y=\"Survived\", hue=\"Embarked\", ax=axs.flatten()[5])\n",
    "axs.flatten()[5].set_ylabel('') \n",
    "axs.flatten()[5].legend(title=\"Embarked\", loc=4)\n",
    "fig.suptitle(\"Characteristics of Survivors vs Non-Survivors\", size=22)"
   ]
  },
  {
   "cell_type": "code",
   "execution_count": null,
   "metadata": {},
   "outputs": [],
   "source": []
  },
  {
   "cell_type": "code",
   "execution_count": null,
   "metadata": {},
   "outputs": [],
   "source": []
  },
  {
   "cell_type": "code",
   "execution_count": null,
   "metadata": {},
   "outputs": [],
   "source": []
  },
  {
   "cell_type": "code",
   "execution_count": null,
   "metadata": {},
   "outputs": [],
   "source": []
  },
  {
   "cell_type": "code",
   "execution_count": null,
   "metadata": {},
   "outputs": [],
   "source": []
  }
 ],
 "metadata": {
  "kernelspec": {
   "display_name": "Python 3",
   "language": "python",
   "name": "python3"
  },
  "language_info": {
   "codemirror_mode": {
    "name": "ipython",
    "version": 3
   },
   "file_extension": ".py",
   "mimetype": "text/x-python",
   "name": "python",
   "nbconvert_exporter": "python",
   "pygments_lexer": "ipython3",
   "version": "3.8.5"
  }
 },
 "nbformat": 4,
 "nbformat_minor": 4
}
